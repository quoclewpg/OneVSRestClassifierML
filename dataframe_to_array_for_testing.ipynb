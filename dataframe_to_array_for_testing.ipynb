{
 "cells": [
  {
   "cell_type": "code",
   "execution_count": 519,
   "metadata": {},
   "outputs": [],
   "source": [
    "# Imports\n",
    "import glob\n",
    "import numpy as np\n",
    "import pandas as pd\n",
    "import string\n",
    "import cv2\n",
    "import matplotlib.pyplot as plt\n",
    "\n",
    "from sklearn.model_selection import train_test_split\n",
    "from PIL import Image\n",
    "\n",
    "%matplotlib inline\n",
    "\n",
    "\n"
   ]
  },
  {
   "cell_type": "code",
   "execution_count": 522,
   "metadata": {
    "scrolled": true
   },
   "outputs": [],
   "source": [
    "for file in glob.glob(\"sunflower_image_test.jpg\"):\n",
    "    img_array = cv2.imread(file, cv2.IMREAD_GRAYSCALE)\n",
    "    img_pil = Image.fromarray(img_array)\n",
    "\n",
    "    img_28x28 = np.array(img_pil.resize((127, 127), Image.ANTIALIAS))\n",
    "    img_array = (img_28x28.flatten())\n",
    "    img_array  = img_array.reshape(-1,1).T\n",
    "    image_array = img_array.astype(int)\n",
    "    \n",
    "    df = pd.DataFrame(image_array)\n",
    "    df.to_csv(\"sunflower_image_test_converted.csv\", sep=',',header=None, index=False)"
   ]
  },
  {
   "cell_type": "code",
   "execution_count": null,
   "metadata": {},
   "outputs": [],
   "source": []
  }
 ],
 "metadata": {
  "kernelspec": {
   "display_name": "Python 3",
   "language": "python",
   "name": "python3"
  },
  "language_info": {
   "codemirror_mode": {
    "name": "ipython",
    "version": 3
   },
   "file_extension": ".py",
   "mimetype": "text/x-python",
   "name": "python",
   "nbconvert_exporter": "python",
   "pygments_lexer": "ipython3",
   "version": "3.8.3"
  }
 },
 "nbformat": 4,
 "nbformat_minor": 4
}
